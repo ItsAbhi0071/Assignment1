{
 "cells": [
  {
   "cell_type": "code",
   "execution_count": 1,
   "id": "8a7873b9-1c3e-4d0d-bb62-cbffe47a3309",
   "metadata": {},
   "outputs": [
    {
     "name": "stdout",
     "output_type": "stream",
     "text": [
      "Guido van Rossum\n"
     ]
    }
   ],
   "source": [
    "#qus1\n",
    "print(\"Guido van Rossum\")"
   ]
  },
  {
   "cell_type": "code",
   "execution_count": 2,
   "id": "47c2d05c-e5a5-41a7-8aa6-cc9d667d1915",
   "metadata": {},
   "outputs": [
    {
     "name": "stdout",
     "output_type": "stream",
     "text": [
      "Python is a multi-paradigm programming language. Object-oriented programming and structured programming\n"
     ]
    }
   ],
   "source": [
    "#qus2\n",
    "print(\"Python is a multi-paradigm programming language. Object-oriented programming and structured programming\")"
   ]
  },
  {
   "cell_type": "code",
   "execution_count": 3,
   "id": "11c8f3fb-7b33-47b6-a805-d047d5bb8e41",
   "metadata": {},
   "outputs": [
    {
     "name": "stdout",
     "output_type": "stream",
     "text": [
      "Yes, Python is a case-sensitive language\n"
     ]
    }
   ],
   "source": [
    "#qus3\n",
    "print(\"Yes, Python is a case-sensitive language\")"
   ]
  },
  {
   "cell_type": "code",
   "execution_count": 4,
   "id": "e978a8f5-07e5-47e4-8b1b-d30ad6e64f67",
   "metadata": {},
   "outputs": [
    {
     "name": "stdout",
     "output_type": "stream",
     "text": [
      ".py\n"
     ]
    }
   ],
   "source": [
    "#qus4\n",
    "print(\".py\")"
   ]
  },
  {
   "cell_type": "code",
   "execution_count": 5,
   "id": "fac7281e-a3fa-4a34-acf3-438d457726f7",
   "metadata": {},
   "outputs": [
    {
     "name": "stdout",
     "output_type": "stream",
     "text": [
      "Python is an interpreted language\n"
     ]
    }
   ],
   "source": [
    "#qus5\n",
    "print(\"Python is an interpreted language\")"
   ]
  },
  {
   "cell_type": "code",
   "execution_count": 6,
   "id": "8de019fd-83c0-48c1-a642-23d1b8b776bd",
   "metadata": {},
   "outputs": [
    {
     "name": "stdout",
     "output_type": "stream",
     "text": [
      "a module, a function body, and a class definition\n"
     ]
    }
   ],
   "source": [
    "#qus6\n",
    "print(\"a module, a function body, and a class definition\")"
   ]
  },
  {
   "cell_type": "code",
   "execution_count": 7,
   "id": "80320e27-dd8b-4234-9ee1-276797496b65",
   "metadata": {},
   "outputs": [
    {
     "name": "stdout",
     "output_type": "stream",
     "text": [
      "# is used to give single line comment\n"
     ]
    }
   ],
   "source": [
    "#qus7\n",
    "print(\"# is used to give single line comment\")"
   ]
  },
  {
   "cell_type": "code",
   "execution_count": 8,
   "id": "3df7f25c-09f4-4a83-878f-06500204dbc1",
   "metadata": {},
   "outputs": [
    {
     "name": "stdout",
     "output_type": "stream",
     "text": [
      "Open the Windows command prompt or Windows Powershell, and enter (python--version)\n"
     ]
    }
   ],
   "source": [
    "#qus8\n",
    "print(\"Open the Windows command prompt or Windows Powershell, and enter (python--version)\")"
   ]
  },
  {
   "cell_type": "code",
   "execution_count": 9,
   "id": "232855d8-7789-49fb-b291-cd05c4036307",
   "metadata": {},
   "outputs": [
    {
     "name": "stdout",
     "output_type": "stream",
     "text": [
      "lambda function can be used\n"
     ]
    }
   ],
   "source": [
    "#qus9\n",
    "print(\"lambda function can be used\")"
   ]
  },
  {
   "cell_type": "code",
   "execution_count": 10,
   "id": "7813df50-d13a-4e31-aac6-49b0d19f4a85",
   "metadata": {},
   "outputs": [
    {
     "name": "stdout",
     "output_type": "stream",
     "text": [
      "pip stands for preferred installer program\n"
     ]
    }
   ],
   "source": [
    "#qus10\n",
    "print(\"pip stands for preferred installer program\")"
   ]
  },
  {
   "cell_type": "code",
   "execution_count": 11,
   "id": "953826f5-596a-4a50-928d-8ace029d0e85",
   "metadata": {},
   "outputs": [
    {
     "name": "stdout",
     "output_type": "stream",
     "text": [
      "print(),input(),type()\n"
     ]
    }
   ],
   "source": [
    "#qus11\n",
    "print(\"print(),input(),type()\")"
   ]
  },
  {
   "cell_type": "code",
   "execution_count": 12,
   "id": "3f0b431f-373b-49eb-944e-6381b14b7ce7",
   "metadata": {},
   "outputs": [
    {
     "name": "stdout",
     "output_type": "stream",
     "text": [
      "maximum length of indentifier is 79\n"
     ]
    }
   ],
   "source": [
    "#qus12\n",
    "print(\"maximum length of indentifier is 79\")"
   ]
  },
  {
   "cell_type": "code",
   "execution_count": 13,
   "id": "878c75d5-274a-4a34-a151-7ccd725e07b6",
   "metadata": {},
   "outputs": [
    {
     "data": {
      "text/plain": [
       "['Data science',\n",
       " 'Scientific & mathematical computing',\n",
       " 'Web development',\n",
       " 'Finance & trading',\n",
       " 'System automation & administration',\n",
       " 'Computer graphics']"
      ]
     },
     "execution_count": 13,
     "metadata": {},
     "output_type": "execute_result"
    }
   ],
   "source": [
    "#qus 13\n",
    "l=['Data science','Scientific & mathematical computing','Web development','Finance & trading','System automation & administration','Computer graphics']\n",
    "l"
   ]
  },
  {
   "cell_type": "code",
   "execution_count": 14,
   "id": "e1d81140-579f-4e3d-bd7e-6c7cb5731b18",
   "metadata": {},
   "outputs": [
    {
     "name": "stdout",
     "output_type": "stream",
     "text": [
      "Memory management in Python involves a private heap containing all Python objects and data structures. The management of this private heap is ensured internally by the Python memory manager\n"
     ]
    }
   ],
   "source": [
    "#qus14\n",
    "print('Memory management in Python involves a private heap containing all Python objects and data structures. The management of this private heap is ensured internally by the Python memory manager')"
   ]
  },
  {
   "cell_type": "code",
   "execution_count": 15,
   "id": "0f2e21b5-d151-44e9-bf91-6f921cd6a195",
   "metadata": {},
   "outputs": [
    {
     "name": "stdout",
     "output_type": "stream",
     "text": [
      "Type “Python” in the Windows Search Bar.\n",
      "Right-click on the Python App, and then select “Open file location“\n",
      "Right-click again on the Python shortcut, and then select “Open file location\n"
     ]
    }
   ],
   "source": [
    "#qus15\n",
    "print('''Type “Python” in the Windows Search Bar.\n",
    "Right-click on the Python App, and then select “Open file location“\n",
    "Right-click again on the Python shortcut, and then select “Open file location''')"
   ]
  },
  {
   "cell_type": "code",
   "execution_count": 16,
   "id": "f3eb3344-f74b-4178-ba42-a5890cf30ce3",
   "metadata": {},
   "outputs": [
    {
     "name": "stdout",
     "output_type": "stream",
     "text": [
      "yes indentation is very important\n"
     ]
    }
   ],
   "source": [
    "#qus16\n",
    "print('yes indentation is very important')"
   ]
  },
  {
   "cell_type": "code",
   "execution_count": null,
   "id": "48f8baea-be56-4b83-bdcd-3a82ab44b3bd",
   "metadata": {},
   "outputs": [],
   "source": []
  }
 ],
 "metadata": {
  "kernelspec": {
   "display_name": "Python 3 (ipykernel)",
   "language": "python",
   "name": "python3"
  },
  "language_info": {
   "codemirror_mode": {
    "name": "ipython",
    "version": 3
   },
   "file_extension": ".py",
   "mimetype": "text/x-python",
   "name": "python",
   "nbconvert_exporter": "python",
   "pygments_lexer": "ipython3",
   "version": "3.10.6"
  }
 },
 "nbformat": 4,
 "nbformat_minor": 5
}
